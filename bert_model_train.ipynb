{
 "cells": [
  {
   "cell_type": "code",
   "execution_count": 1,
   "id": "f2a40ee0-e05e-49a9-a8dd-0f80692fab18",
   "metadata": {},
   "outputs": [],
   "source": [
    "import numpy as np"
   ]
  },
  {
   "cell_type": "code",
   "execution_count": 2,
   "id": "3fc853b4",
   "metadata": {},
   "outputs": [
    {
     "name": "stdout",
     "output_type": "stream",
     "text": [
      "user mongo ········\n",
      "password mongo ········\n",
      "database name ········\n"
     ]
    }
   ],
   "source": [
    "from getpass import getpass\n",
    "host = \"localhost\"\n",
    "port = 27017\n",
    "\n",
    "user = getpass(\"user mongo\")\n",
    "password = getpass(\"password mongo\")\n",
    "database_name = getpass(\"database name\")\n",
    "\n",
    "uri = f\"mongodb://{user}:{password}@{host}:{port}?authSource=admin\""
   ]
  },
  {
   "cell_type": "code",
   "execution_count": 6,
   "id": "1f65989e",
   "metadata": {},
   "outputs": [],
   "source": [
    "from pymongo import MongoClient\n",
    "\n",
    "client = MongoClient(uri)\n",
    "db = client[database_name]\n",
    "collection = db[\"sentiment-analysis\"]"
   ]
  },
  {
   "cell_type": "code",
   "execution_count": 7,
   "id": "e5f592ad",
   "metadata": {},
   "outputs": [
    {
     "name": "stdout",
     "output_type": "stream",
     "text": [
      "889312\n"
     ]
    }
   ],
   "source": [
    "query = {\n",
    "    \"source\": \"portuguese-tweets-for-sentiment-analysis\"\n",
    "}\n",
    "\n",
    "print(collection.count_documents(query))\n",
    "\n",
    "response = collection.find(query)"
   ]
  },
  {
   "cell_type": "code",
   "execution_count": 8,
   "id": "bdb3f642",
   "metadata": {},
   "outputs": [
    {
     "data": {
      "text/html": [
       "<div>\n",
       "<style scoped>\n",
       "    .dataframe tbody tr th:only-of-type {\n",
       "        vertical-align: middle;\n",
       "    }\n",
       "\n",
       "    .dataframe tbody tr th {\n",
       "        vertical-align: top;\n",
       "    }\n",
       "\n",
       "    .dataframe thead th {\n",
       "        text-align: right;\n",
       "    }\n",
       "</style>\n",
       "<table border=\"1\" class=\"dataframe\">\n",
       "  <thead>\n",
       "    <tr style=\"text-align: right;\">\n",
       "      <th></th>\n",
       "      <th>_id</th>\n",
       "      <th>id</th>\n",
       "      <th>sentiment</th>\n",
       "      <th>source</th>\n",
       "      <th>text</th>\n",
       "      <th>bert_text</th>\n",
       "      <th>bert_text_processed_at</th>\n",
       "    </tr>\n",
       "  </thead>\n",
       "  <tbody>\n",
       "    <tr>\n",
       "      <th>0</th>\n",
       "      <td>68fc3dac30589e1d5a736896</td>\n",
       "      <td>110b5a3e-7f97-4dba-9763-bd1b2ffdd5f1</td>\n",
       "      <td>2</td>\n",
       "      <td>portuguese-tweets-for-sentiment-analysis</td>\n",
       "      <td>@Tixaa23 14 para eu ir :)</td>\n",
       "      <td>para eu ir</td>\n",
       "      <td>2025-10-25 03:13:04.035</td>\n",
       "    </tr>\n",
       "    <tr>\n",
       "      <th>1</th>\n",
       "      <td>68fc3dac30589e1d5a736897</td>\n",
       "      <td>c604571f-64d7-4843-9e42-89af14f0e120</td>\n",
       "      <td>2</td>\n",
       "      <td>portuguese-tweets-for-sentiment-analysis</td>\n",
       "      <td>@drexalvarez O meu like eu já dei na época :)</td>\n",
       "      <td>o meu like eu ja dei na epoca</td>\n",
       "      <td>2025-10-25 03:13:04.036</td>\n",
       "    </tr>\n",
       "    <tr>\n",
       "      <th>2</th>\n",
       "      <td>68fc3dac30589e1d5a736898</td>\n",
       "      <td>71320764-1cca-47f5-a287-2b447f9ae438</td>\n",
       "      <td>2</td>\n",
       "      <td>portuguese-tweets-for-sentiment-analysis</td>\n",
       "      <td>Eu só queria conseguir comer alguma coisa pra ...</td>\n",
       "      <td>eu so queria conseguir comer alguma coisa pra ...</td>\n",
       "      <td>2025-10-25 03:13:04.037</td>\n",
       "    </tr>\n",
       "    <tr>\n",
       "      <th>3</th>\n",
       "      <td>68fc3dac30589e1d5a736899</td>\n",
       "      <td>9e1d9978-4d9c-44b3-b376-f0803c2fb348</td>\n",
       "      <td>2</td>\n",
       "      <td>portuguese-tweets-for-sentiment-analysis</td>\n",
       "      <td>:D que lindo dia !</td>\n",
       "      <td>que lindo dia !</td>\n",
       "      <td>2025-10-25 03:13:04.038</td>\n",
       "    </tr>\n",
       "    <tr>\n",
       "      <th>4</th>\n",
       "      <td>68fc3dac30589e1d5a73689a</td>\n",
       "      <td>ec587b05-cc9d-4719-93f1-c8e5c2fbf133</td>\n",
       "      <td>2</td>\n",
       "      <td>portuguese-tweets-for-sentiment-analysis</td>\n",
       "      <td>@Primo_Resmungao Pq da pr jeito!!é uma \"oferta...</td>\n",
       "      <td>pq da pr jeito!!e uma \"oferta\", ha q aproveitar.</td>\n",
       "      <td>2025-10-25 03:13:04.039</td>\n",
       "    </tr>\n",
       "    <tr>\n",
       "      <th>...</th>\n",
       "      <td>...</td>\n",
       "      <td>...</td>\n",
       "      <td>...</td>\n",
       "      <td>...</td>\n",
       "      <td>...</td>\n",
       "      <td>...</td>\n",
       "      <td>...</td>\n",
       "    </tr>\n",
       "    <tr>\n",
       "      <th>889307</th>\n",
       "      <td>68fc3dd230589e1d5a80fa71</td>\n",
       "      <td>5ed841c4-ceae-4a1a-b354-980938d2cf16</td>\n",
       "      <td>2</td>\n",
       "      <td>portuguese-tweets-for-sentiment-analysis</td>\n",
       "      <td>As concorrentes estão prontas para tudo. :p Lo...</td>\n",
       "      <td>as concorrentes estao prontas para tudo. love ...</td>\n",
       "      <td>2025-10-25 03:23:33.718</td>\n",
       "    </tr>\n",
       "    <tr>\n",
       "      <th>889308</th>\n",
       "      <td>68fc3dd230589e1d5a80fa72</td>\n",
       "      <td>306a7668-023b-47ce-b2e5-c90b61812e69</td>\n",
       "      <td>2</td>\n",
       "      <td>portuguese-tweets-for-sentiment-analysis</td>\n",
       "      <td>@Frases_RCampos @vrr93 Falei de um já pensando...</td>\n",
       "      <td>falei de um ja pensando em conectar com o gove...</td>\n",
       "      <td>2025-10-25 03:23:33.718</td>\n",
       "    </tr>\n",
       "    <tr>\n",
       "      <th>889309</th>\n",
       "      <td>68fc3dd230589e1d5a80fa73</td>\n",
       "      <td>e9d76639-946f-4c29-8af0-7dcff5a4118d</td>\n",
       "      <td>2</td>\n",
       "      <td>portuguese-tweets-for-sentiment-analysis</td>\n",
       "      <td>@njg00 @christophssj @pecesiqueira @cauemoura ...</td>\n",
       "      <td>eu comecei isentao, pesquisei bastante, baixei...</td>\n",
       "      <td>2025-10-25 03:23:33.719</td>\n",
       "    </tr>\n",
       "    <tr>\n",
       "      <th>889310</th>\n",
       "      <td>68fc3dd230589e1d5a80fa74</td>\n",
       "      <td>be308efb-43f4-454c-8805-fe0b02744063</td>\n",
       "      <td>0</td>\n",
       "      <td>portuguese-tweets-for-sentiment-analysis</td>\n",
       "      <td>que coisa mais triste uma amiga defendendo um ...</td>\n",
       "      <td>que coisa mais triste uma amiga defendendo um ...</td>\n",
       "      <td>2025-10-25 03:23:33.720</td>\n",
       "    </tr>\n",
       "    <tr>\n",
       "      <th>889311</th>\n",
       "      <td>68fc3dd230589e1d5a80fa75</td>\n",
       "      <td>fa31c315-12d2-45bb-8343-a859b301e20e</td>\n",
       "      <td>2</td>\n",
       "      <td>portuguese-tweets-for-sentiment-analysis</td>\n",
       "      <td>@ElevenSports_PT @AneisCinco @putente @sitioco...</td>\n",
       "      <td>obrigado pela declaracao de intencoes</td>\n",
       "      <td>2025-10-25 03:23:33.720</td>\n",
       "    </tr>\n",
       "  </tbody>\n",
       "</table>\n",
       "<p>889312 rows × 7 columns</p>\n",
       "</div>"
      ],
      "text/plain": [
       "                             _id                                    id  \\\n",
       "0       68fc3dac30589e1d5a736896  110b5a3e-7f97-4dba-9763-bd1b2ffdd5f1   \n",
       "1       68fc3dac30589e1d5a736897  c604571f-64d7-4843-9e42-89af14f0e120   \n",
       "2       68fc3dac30589e1d5a736898  71320764-1cca-47f5-a287-2b447f9ae438   \n",
       "3       68fc3dac30589e1d5a736899  9e1d9978-4d9c-44b3-b376-f0803c2fb348   \n",
       "4       68fc3dac30589e1d5a73689a  ec587b05-cc9d-4719-93f1-c8e5c2fbf133   \n",
       "...                          ...                                   ...   \n",
       "889307  68fc3dd230589e1d5a80fa71  5ed841c4-ceae-4a1a-b354-980938d2cf16   \n",
       "889308  68fc3dd230589e1d5a80fa72  306a7668-023b-47ce-b2e5-c90b61812e69   \n",
       "889309  68fc3dd230589e1d5a80fa73  e9d76639-946f-4c29-8af0-7dcff5a4118d   \n",
       "889310  68fc3dd230589e1d5a80fa74  be308efb-43f4-454c-8805-fe0b02744063   \n",
       "889311  68fc3dd230589e1d5a80fa75  fa31c315-12d2-45bb-8343-a859b301e20e   \n",
       "\n",
       "        sentiment                                    source  \\\n",
       "0               2  portuguese-tweets-for-sentiment-analysis   \n",
       "1               2  portuguese-tweets-for-sentiment-analysis   \n",
       "2               2  portuguese-tweets-for-sentiment-analysis   \n",
       "3               2  portuguese-tweets-for-sentiment-analysis   \n",
       "4               2  portuguese-tweets-for-sentiment-analysis   \n",
       "...           ...                                       ...   \n",
       "889307          2  portuguese-tweets-for-sentiment-analysis   \n",
       "889308          2  portuguese-tweets-for-sentiment-analysis   \n",
       "889309          2  portuguese-tweets-for-sentiment-analysis   \n",
       "889310          0  portuguese-tweets-for-sentiment-analysis   \n",
       "889311          2  portuguese-tweets-for-sentiment-analysis   \n",
       "\n",
       "                                                     text  \\\n",
       "0                               @Tixaa23 14 para eu ir :)   \n",
       "1           @drexalvarez O meu like eu já dei na época :)   \n",
       "2       Eu só queria conseguir comer alguma coisa pra ...   \n",
       "3                                      :D que lindo dia !   \n",
       "4       @Primo_Resmungao Pq da pr jeito!!é uma \"oferta...   \n",
       "...                                                   ...   \n",
       "889307  As concorrentes estão prontas para tudo. :p Lo...   \n",
       "889308  @Frases_RCampos @vrr93 Falei de um já pensando...   \n",
       "889309  @njg00 @christophssj @pecesiqueira @cauemoura ...   \n",
       "889310  que coisa mais triste uma amiga defendendo um ...   \n",
       "889311  @ElevenSports_PT @AneisCinco @putente @sitioco...   \n",
       "\n",
       "                                                bert_text  \\\n",
       "0                                              para eu ir   \n",
       "1                           o meu like eu ja dei na epoca   \n",
       "2       eu so queria conseguir comer alguma coisa pra ...   \n",
       "3                                         que lindo dia !   \n",
       "4        pq da pr jeito!!e uma \"oferta\", ha q aproveitar.   \n",
       "...                                                   ...   \n",
       "889307  as concorrentes estao prontas para tudo. love ...   \n",
       "889308  falei de um ja pensando em conectar com o gove...   \n",
       "889309  eu comecei isentao, pesquisei bastante, baixei...   \n",
       "889310  que coisa mais triste uma amiga defendendo um ...   \n",
       "889311              obrigado pela declaracao de intencoes   \n",
       "\n",
       "        bert_text_processed_at  \n",
       "0      2025-10-25 03:13:04.035  \n",
       "1      2025-10-25 03:13:04.036  \n",
       "2      2025-10-25 03:13:04.037  \n",
       "3      2025-10-25 03:13:04.038  \n",
       "4      2025-10-25 03:13:04.039  \n",
       "...                        ...  \n",
       "889307 2025-10-25 03:23:33.718  \n",
       "889308 2025-10-25 03:23:33.718  \n",
       "889309 2025-10-25 03:23:33.719  \n",
       "889310 2025-10-25 03:23:33.720  \n",
       "889311 2025-10-25 03:23:33.720  \n",
       "\n",
       "[889312 rows x 7 columns]"
      ]
     },
     "execution_count": 8,
     "metadata": {},
     "output_type": "execute_result"
    }
   ],
   "source": [
    "import pandas as pd\n",
    "\n",
    "df = pd.DataFrame(list(response))\n",
    "df"
   ]
  },
  {
   "cell_type": "code",
   "execution_count": 9,
   "id": "974cf40a",
   "metadata": {},
   "outputs": [],
   "source": [
    "df = df.drop(columns=[\"_id\"])"
   ]
  },
  {
   "cell_type": "code",
   "execution_count": 10,
   "id": "2dad371b",
   "metadata": {},
   "outputs": [
    {
     "data": {
      "text/html": [
       "<div>\n",
       "<style scoped>\n",
       "    .dataframe tbody tr th:only-of-type {\n",
       "        vertical-align: middle;\n",
       "    }\n",
       "\n",
       "    .dataframe tbody tr th {\n",
       "        vertical-align: top;\n",
       "    }\n",
       "\n",
       "    .dataframe thead th {\n",
       "        text-align: right;\n",
       "    }\n",
       "</style>\n",
       "<table border=\"1\" class=\"dataframe\">\n",
       "  <thead>\n",
       "    <tr style=\"text-align: right;\">\n",
       "      <th></th>\n",
       "      <th>id</th>\n",
       "      <th>sentiment</th>\n",
       "      <th>source</th>\n",
       "      <th>text</th>\n",
       "      <th>bert_text</th>\n",
       "      <th>bert_text_processed_at</th>\n",
       "    </tr>\n",
       "  </thead>\n",
       "  <tbody>\n",
       "    <tr>\n",
       "      <th>17</th>\n",
       "      <td>1343e40b-e2f7-4e07-bad9-a8e8bd0723bd</td>\n",
       "      <td>2</td>\n",
       "      <td>portuguese-tweets-for-sentiment-analysis</td>\n",
       "      <td>@LelloucheNico Bravo ! :)</td>\n",
       "      <td>bravo !</td>\n",
       "      <td>2025-10-25 03:13:04.049</td>\n",
       "    </tr>\n",
       "    <tr>\n",
       "      <th>20</th>\n",
       "      <td>c0a1e82d-09b5-41f6-8475-2ce0e5b1969a</td>\n",
       "      <td>2</td>\n",
       "      <td>portuguese-tweets-for-sentiment-analysis</td>\n",
       "      <td>@tommezequiel10 de nada :)</td>\n",
       "      <td>de nada</td>\n",
       "      <td>2025-10-25 03:13:04.051</td>\n",
       "    </tr>\n",
       "    <tr>\n",
       "      <th>27</th>\n",
       "      <td>ab772a31-a860-4d84-bd35-093831d6371b</td>\n",
       "      <td>2</td>\n",
       "      <td>portuguese-tweets-for-sentiment-analysis</td>\n",
       "      <td>@aclarapinheir0 Delicada demais :D</td>\n",
       "      <td>delicada demais</td>\n",
       "      <td>2025-10-25 03:13:04.057</td>\n",
       "    </tr>\n",
       "    <tr>\n",
       "      <th>48</th>\n",
       "      <td>5b1e71a3-c76a-4fae-ab8b-55ca9c475d03</td>\n",
       "      <td>2</td>\n",
       "      <td>portuguese-tweets-for-sentiment-analysis</td>\n",
       "      <td>@Roboox23 De nada :D</td>\n",
       "      <td>de nada</td>\n",
       "      <td>2025-10-25 03:13:04.072</td>\n",
       "    </tr>\n",
       "    <tr>\n",
       "      <th>54</th>\n",
       "      <td>ad0df701-6626-4b7a-b96a-c081436e627e</td>\n",
       "      <td>2</td>\n",
       "      <td>portuguese-tweets-for-sentiment-analysis</td>\n",
       "      <td>@xtramirrestrial dinosaurs!!!! :) https://t.co...</td>\n",
       "      <td>dinosaurs!!!! https/t.co/utqtvnisv</td>\n",
       "      <td>2025-10-25 03:13:04.076</td>\n",
       "    </tr>\n",
       "    <tr>\n",
       "      <th>...</th>\n",
       "      <td>...</td>\n",
       "      <td>...</td>\n",
       "      <td>...</td>\n",
       "      <td>...</td>\n",
       "      <td>...</td>\n",
       "      <td>...</td>\n",
       "    </tr>\n",
       "    <tr>\n",
       "      <th>889020</th>\n",
       "      <td>767063a7-bdfc-47cf-a5df-b1b50d093e11</td>\n",
       "      <td>0</td>\n",
       "      <td>portuguese-tweets-for-sentiment-analysis</td>\n",
       "      <td>@cirogomes oi saudades :(</td>\n",
       "      <td>oi saudades</td>\n",
       "      <td>2025-10-25 03:23:33.527</td>\n",
       "    </tr>\n",
       "    <tr>\n",
       "      <th>889055</th>\n",
       "      <td>e2cc3be2-61d6-4815-ae82-be3b0672fb58</td>\n",
       "      <td>2</td>\n",
       "      <td>portuguese-tweets-for-sentiment-analysis</td>\n",
       "      <td>@jairbolsonaro Muito bom :)</td>\n",
       "      <td>muito bom</td>\n",
       "      <td>2025-10-25 03:23:33.549</td>\n",
       "    </tr>\n",
       "    <tr>\n",
       "      <th>889079</th>\n",
       "      <td>c84df9d3-e3e2-4d6f-981d-8035e4150237</td>\n",
       "      <td>0</td>\n",
       "      <td>portuguese-tweets-for-sentiment-analysis</td>\n",
       "      <td>@misscaviar @jairbolsonaro É lamentável :(</td>\n",
       "      <td>e lamentavel</td>\n",
       "      <td>2025-10-25 03:23:33.565</td>\n",
       "    </tr>\n",
       "    <tr>\n",
       "      <th>889143</th>\n",
       "      <td>f886f867-3ee2-4efc-b91f-7d6fe90b3dc9</td>\n",
       "      <td>0</td>\n",
       "      <td>portuguese-tweets-for-sentiment-analysis</td>\n",
       "      <td>faltou lula :(</td>\n",
       "      <td>faltou lula</td>\n",
       "      <td>2025-10-25 03:23:33.606</td>\n",
       "    </tr>\n",
       "    <tr>\n",
       "      <th>889188</th>\n",
       "      <td>72df2378-7b2a-45a7-afb8-7f309b9d3cc9</td>\n",
       "      <td>2</td>\n",
       "      <td>portuguese-tweets-for-sentiment-analysis</td>\n",
       "      <td>@jairbolsonaro Isso aÊÊ! :)</td>\n",
       "      <td>isso aee!</td>\n",
       "      <td>2025-10-25 03:23:33.636</td>\n",
       "    </tr>\n",
       "  </tbody>\n",
       "</table>\n",
       "<p>42893 rows × 6 columns</p>\n",
       "</div>"
      ],
      "text/plain": [
       "                                          id  sentiment  \\\n",
       "17      1343e40b-e2f7-4e07-bad9-a8e8bd0723bd          2   \n",
       "20      c0a1e82d-09b5-41f6-8475-2ce0e5b1969a          2   \n",
       "27      ab772a31-a860-4d84-bd35-093831d6371b          2   \n",
       "48      5b1e71a3-c76a-4fae-ab8b-55ca9c475d03          2   \n",
       "54      ad0df701-6626-4b7a-b96a-c081436e627e          2   \n",
       "...                                      ...        ...   \n",
       "889020  767063a7-bdfc-47cf-a5df-b1b50d093e11          0   \n",
       "889055  e2cc3be2-61d6-4815-ae82-be3b0672fb58          2   \n",
       "889079  c84df9d3-e3e2-4d6f-981d-8035e4150237          0   \n",
       "889143  f886f867-3ee2-4efc-b91f-7d6fe90b3dc9          0   \n",
       "889188  72df2378-7b2a-45a7-afb8-7f309b9d3cc9          2   \n",
       "\n",
       "                                          source  \\\n",
       "17      portuguese-tweets-for-sentiment-analysis   \n",
       "20      portuguese-tweets-for-sentiment-analysis   \n",
       "27      portuguese-tweets-for-sentiment-analysis   \n",
       "48      portuguese-tweets-for-sentiment-analysis   \n",
       "54      portuguese-tweets-for-sentiment-analysis   \n",
       "...                                          ...   \n",
       "889020  portuguese-tweets-for-sentiment-analysis   \n",
       "889055  portuguese-tweets-for-sentiment-analysis   \n",
       "889079  portuguese-tweets-for-sentiment-analysis   \n",
       "889143  portuguese-tweets-for-sentiment-analysis   \n",
       "889188  portuguese-tweets-for-sentiment-analysis   \n",
       "\n",
       "                                                     text  \\\n",
       "17                              @LelloucheNico Bravo ! :)   \n",
       "20                             @tommezequiel10 de nada :)   \n",
       "27                     @aclarapinheir0 Delicada demais :D   \n",
       "48                                   @Roboox23 De nada :D   \n",
       "54      @xtramirrestrial dinosaurs!!!! :) https://t.co...   \n",
       "...                                                   ...   \n",
       "889020                          @cirogomes oi saudades :(   \n",
       "889055                        @jairbolsonaro Muito bom :)   \n",
       "889079         @misscaviar @jairbolsonaro É lamentável :(   \n",
       "889143                                     faltou lula :(   \n",
       "889188                        @jairbolsonaro Isso aÊÊ! :)   \n",
       "\n",
       "                                 bert_text  bert_text_processed_at  \n",
       "17                                 bravo ! 2025-10-25 03:13:04.049  \n",
       "20                                 de nada 2025-10-25 03:13:04.051  \n",
       "27                         delicada demais 2025-10-25 03:13:04.057  \n",
       "48                                 de nada 2025-10-25 03:13:04.072  \n",
       "54      dinosaurs!!!! https/t.co/utqtvnisv 2025-10-25 03:13:04.076  \n",
       "...                                    ...                     ...  \n",
       "889020                         oi saudades 2025-10-25 03:23:33.527  \n",
       "889055                           muito bom 2025-10-25 03:23:33.549  \n",
       "889079                        e lamentavel 2025-10-25 03:23:33.565  \n",
       "889143                         faltou lula 2025-10-25 03:23:33.606  \n",
       "889188                           isso aee! 2025-10-25 03:23:33.636  \n",
       "\n",
       "[42893 rows x 6 columns]"
      ]
     },
     "execution_count": 10,
     "metadata": {},
     "output_type": "execute_result"
    }
   ],
   "source": [
    "df[df['bert_text'].str.split().apply(len) == 2]"
   ]
  },
  {
   "cell_type": "code",
   "execution_count": 11,
   "id": "21b15a4b",
   "metadata": {},
   "outputs": [
    {
     "name": "stdout",
     "output_type": "stream",
     "text": [
      "0\n",
      "0\n",
      "0\n"
     ]
    }
   ],
   "source": [
    "def count_problematic_docs(df):\n",
    "    print(df[\"bert_text\"].isna().sum())\n",
    "    print(df[\"bert_text\"].isnull().sum())\n",
    "    print((df[\"bert_text\"] == \"\").sum())\n",
    "\n",
    "\n",
    "\n",
    "count_problematic_docs(df)"
   ]
  },
  {
   "cell_type": "code",
   "execution_count": 12,
   "id": "20be6ce3-b3e1-4d38-bfde-a35505b13388",
   "metadata": {},
   "outputs": [
    {
     "data": {
      "text/html": [
       "<div>\n",
       "<style scoped>\n",
       "    .dataframe tbody tr th:only-of-type {\n",
       "        vertical-align: middle;\n",
       "    }\n",
       "\n",
       "    .dataframe tbody tr th {\n",
       "        vertical-align: top;\n",
       "    }\n",
       "\n",
       "    .dataframe thead th {\n",
       "        text-align: right;\n",
       "    }\n",
       "</style>\n",
       "<table border=\"1\" class=\"dataframe\">\n",
       "  <thead>\n",
       "    <tr style=\"text-align: right;\">\n",
       "      <th></th>\n",
       "      <th>id</th>\n",
       "      <th>sentiment</th>\n",
       "      <th>source</th>\n",
       "      <th>text</th>\n",
       "      <th>bert_text</th>\n",
       "      <th>bert_text_processed_at</th>\n",
       "    </tr>\n",
       "  </thead>\n",
       "  <tbody>\n",
       "  </tbody>\n",
       "</table>\n",
       "</div>"
      ],
      "text/plain": [
       "Empty DataFrame\n",
       "Columns: [id, sentiment, source, text, bert_text, bert_text_processed_at]\n",
       "Index: []"
      ]
     },
     "execution_count": 12,
     "metadata": {},
     "output_type": "execute_result"
    }
   ],
   "source": [
    "df[df[\"bert_text\"] == \"\"]"
   ]
  },
  {
   "cell_type": "code",
   "execution_count": 13,
   "id": "0baee8f2",
   "metadata": {},
   "outputs": [
    {
     "name": "stdout",
     "output_type": "stream",
     "text": [
      "0\n",
      "0\n",
      "0\n"
     ]
    }
   ],
   "source": [
    "df = df[df[\"bert_text\"] != \"\"]\n",
    "count_problematic_docs(df)"
   ]
  },
  {
   "cell_type": "code",
   "execution_count": 1,
   "id": "da6570cc",
   "metadata": {},
   "outputs": [],
   "source": [
    "from transformers import AutoTokenizer, AutoModel \n",
    "\n",
    "MODEL_NAME = \"neuralmind/bert-base-portuguese-cased\"\n",
    "tokenizer = AutoTokenizer.from_pretrained('neuralmind/bert-base-portuguese-cased', do_lower_case=False)\n"
   ]
  },
  {
   "cell_type": "code",
   "execution_count": 15,
   "id": "46b327a9",
   "metadata": {},
   "outputs": [],
   "source": [
    "# Store length of each text \n",
    "token_lens = []\n",
    "\n",
    "# Iterate through the bert_text slide\n",
    "for text in df[\"bert_text\"]:\n",
    "    tokens = tokenizer.encode(text, max_length=512, truncation=True)\n",
    "    token_lens.append(len(tokens))"
   ]
  },
  {
   "cell_type": "code",
   "execution_count": 16,
   "id": "3e3e9d62-41fc-416d-a1f6-d635e9a1f587",
   "metadata": {},
   "outputs": [
    {
     "data": {
      "text/plain": [
       "<Axes: ylabel='Count'>"
      ]
     },
     "execution_count": 16,
     "metadata": {},
     "output_type": "execute_result"
    },
    {
     "data": {
      "image/png": "[encoded data removed]",
      "text/plain": [
       "<Figure size 640x480 with 1 Axes>"
      ]
     },
     "metadata": {},
     "output_type": "display_data"
    }
   ],
   "source": [
    "import seaborn as sns\n",
    "\n",
    "sns.histplot(token_lens)"
   ]
  },
  {
   "cell_type": "code",
   "execution_count": null,
   "id": "3dc55cb8-3623-4f59-9d39-c7cc6988b2d7",
   "metadata": {},
   "outputs": [],
   "source": [
    "# Plot the distribution\n",
    "class_names = ['negative', 'neutral', 'positive']\n",
    "ax = sns.countplot(df.sentiment)\n",
    "plt.xlabel('review sentiment')\n",
    "ax.set_xticklabels(class_names)"
   ]
  },
  {
   "cell_type": "code",
   "execution_count": 18,
   "id": "9f9f6b24-7354-4484-aa01-d4ef3e30ae13",
   "metadata": {},
   "outputs": [],
   "source": [
    "MAX_LENGTH = 75"
   ]
  },
  {
   "cell_type": "code",
   "execution_count": 19,
   "id": "cde2b1e4-8ccb-4d59-8bc3-a7e1da812f06",
   "metadata": {},
   "outputs": [],
   "source": [
    "from torch.utils.data import Dataset, DataLoader\n",
    "class SentimentDataset(Dataset):\n",
    "    # Constructor Function \n",
    "    def __init__(self, texts, targets, tokenizer, max_len):\n",
    "        self.texts = texts\n",
    "        self.targets = targets\n",
    "        self.tokenizer = tokenizer\n",
    "        self.max_len = max_len\n",
    "    \n",
    "    # Length magic method\n",
    "    def __len__(self):\n",
    "        return len(self.texts)\n",
    "    \n",
    "    # get item magic method\n",
    "    def __getitem__(self, item):\n",
    "        text = str(self.texts[item])\n",
    "        target = self.targets[item]\n",
    "        \n",
    "        # Encoded format to be returned \n",
    "        encoding = self.tokenizer.encode_plus(\n",
    "            text,\n",
    "            add_special_tokens=True,\n",
    "            padding='max_length',\n",
    "            truncation=True, \n",
    "            max_length=self.max_len,\n",
    "            return_token_type_ids=False,\n",
    "            return_attention_mask=True,\n",
    "            return_tensors='pt',\n",
    "        )\n",
    "        \n",
    "        return {\n",
    "            'text_text': text,\n",
    "            'input_ids': encoding['input_ids'].squeeze(0),\n",
    "            'attention_mask': encoding['attention_mask'].squeeze(0),\n",
    "            'targets': torch.tensor(target, dtype=torch.long)\n",
    "        }\n",
    "\n",
    "\n",
    "def create_data_loader(df, tokenizer, max_len, batch_size):\n",
    "    ds = SentimentDataset(\n",
    "        texts=df.bert_text.to_numpy(),\n",
    "        targets=df.sentiment.to_numpy(),\n",
    "        tokenizer=tokenizer,\n",
    "        max_len=max_len\n",
    "    )\n",
    "    \n",
    "    return DataLoader(\n",
    "        ds,\n",
    "        batch_size=batch_size,\n",
    "        num_workers=0\n",
    "    )"
   ]
  },
  {
   "cell_type": "code",
   "execution_count": 3,
   "id": "709c5ded-56f3-4a8e-8976-e1e617ce1652",
   "metadata": {},
   "outputs": [],
   "source": [
    "from torch import nn\n",
    "\n",
    "class SentimentClassifier(nn.Module):\n",
    "    \n",
    "    # Constructor class \n",
    "    def __init__(self, n_classes, model_name):\n",
    "        super(SentimentClassifier, self).__init__()\n",
    "        self.bert = AutoModel.from_pretrained(model_name)\n",
    "        self.drop = nn.Dropout(p=0.3)\n",
    "        self.out = nn.Linear(self.bert.config.hidden_size, n_classes)\n",
    "    \n",
    "    # Forward propagaion class\n",
    "    def forward(self, input_ids, attention_mask):\n",
    "        outputs  = self.bert(\n",
    "          input_ids=input_ids,\n",
    "          attention_mask=attention_mask\n",
    "        )\n",
    "        #  Add a dropout layer \n",
    "        pooled_output = outputs.pooler_output\n",
    "        output = self.drop(pooled_output)\n",
    "        return self.out(output)"
   ]
  },
  {
   "cell_type": "code",
   "execution_count": 4,
   "id": "cd4d756b-447b-4811-8e19-c372c66580b0",
   "metadata": {},
   "outputs": [],
   "source": [
    "model = SentimentClassifier(3, MODEL_NAME)\n",
    "device = \"cuda\"\n",
    "model = model.to(device)"
   ]
  },
  {
   "cell_type": "code",
   "execution_count": 28,
   "id": "53fbac74-86b0-4abe-88f2-1fb82b4cbca6",
   "metadata": {},
   "outputs": [],
   "source": [
    "from sklearn.model_selection import train_test_split\n",
    "df_train, df_test = train_test_split(df, test_size=0.2, random_state=42)\n",
    "df_val, df_test = train_test_split(df_test, test_size=0.5, random_state=42)"
   ]
  },
  {
   "cell_type": "code",
   "execution_count": 29,
   "id": "43edae7d-7fd1-4c75-b3bd-e9f3af8516bd",
   "metadata": {},
   "outputs": [],
   "source": [
    "BATCH_SIZE = 32\n",
    "train_data_loader = create_data_loader(df_train, tokenizer, MAX_LENGTH, BATCH_SIZE)\n",
    "val_data_loader = create_data_loader(df_val, tokenizer, MAX_LENGTH, BATCH_SIZE)\n",
    "test_data_loader = create_data_loader(df_test, tokenizer, MAX_LENGTH, BATCH_SIZE)"
   ]
  },
  {
   "cell_type": "code",
   "execution_count": 30,
   "id": "622684c7-db9b-4d75-9b16-cbd7b7dffaa2",
   "metadata": {},
   "outputs": [],
   "source": [
    "from transformers import get_linear_schedule_with_warmup\n",
    "from torch.optim import AdamW\n",
    "\n",
    "# Number of iterations \n",
    "EPOCHS = 10\n",
    "\n",
    "# Optimizer Adam \n",
    "optimizer = AdamW(model.parameters(), lr=2e-5)\n",
    "\n",
    "total_steps = len(train_data_loader) * EPOCHS\n",
    "\n",
    "scheduler = get_linear_schedule_with_warmup(\n",
    "    optimizer,\n",
    "    num_warmup_steps=0,\n",
    "    num_training_steps=total_steps\n",
    ")\n",
    "\n",
    "# Set the loss function \n",
    "loss_fn = nn.CrossEntropyLoss().to(device)"
   ]
  },
  {
   "cell_type": "code",
   "execution_count": 31,
   "id": "6d9a35fe-eb57-41fe-b6fd-52f5ecc35a48",
   "metadata": {},
   "outputs": [],
   "source": [
    "# Function for a single training iteration\n",
    "from tqdm import tqdm\n",
    "def train_epoch(model, data_loader, loss_fn, optimizer, device, scheduler, n_examples):\n",
    "    model = model.train()\n",
    "    losses = []\n",
    "    correct_predictions = 0\n",
    "    \n",
    "    for d in tqdm(data_loader):\n",
    "        input_ids = d[\"input_ids\"].to(device)\n",
    "        attention_mask = d[\"attention_mask\"].to(device)\n",
    "        targets = d[\"targets\"].to(device)\n",
    "        \n",
    "        outputs = model(\n",
    "            input_ids=input_ids,\n",
    "            attention_mask=attention_mask\n",
    "        )\n",
    "        \n",
    "        _, preds = torch.max(outputs, dim=1)\n",
    "        loss = loss_fn(outputs, targets)\n",
    "        correct_predictions += torch.sum(preds == targets)\n",
    "        losses.append(loss.item())\n",
    "        \n",
    "        # Backward prop\n",
    "        loss.backward()\n",
    "        \n",
    "        # Gradient Descent\n",
    "        nn.utils.clip_grad_norm_(model.parameters(), max_norm=1.0)\n",
    "        optimizer.step()\n",
    "        scheduler.step()\n",
    "        optimizer.zero_grad()\n",
    "    \n",
    "    return correct_predictions.double() / n_examples, np.mean(losses)\n"
   ]
  },
  {
   "cell_type": "code",
   "execution_count": 32,
   "id": "27f9ea7c-935b-47f1-b16e-54ffef3dc147",
   "metadata": {},
   "outputs": [],
   "source": [
    "\n",
    "\n",
    "def eval_model(model, data_loader, loss_fn, device, n_examples):\n",
    "    model = model.eval()\n",
    "    \n",
    "    losses = []\n",
    "    correct_predictions = 0\n",
    "    \n",
    "    with torch.no_grad():\n",
    "        for d in tqdm(data_loader):\n",
    "            input_ids = d[\"input_ids\"].to(device)\n",
    "            attention_mask = d[\"attention_mask\"].to(device)\n",
    "            targets = d[\"targets\"].to(device)\n",
    "            \n",
    "            # Get model ouptuts\n",
    "            outputs = model(\n",
    "                input_ids=input_ids,\n",
    "                attention_mask=attention_mask\n",
    "            )\n",
    "            \n",
    "            _, preds = torch.max(outputs, dim=1)\n",
    "            loss = loss_fn(outputs, targets)\n",
    "            \n",
    "            correct_predictions += torch.sum(preds == targets)\n",
    "            losses.append(loss.item())\n",
    "            \n",
    "    return correct_predictions.double() / n_examples, np.mean(losses)"
   ]
  },
  {
   "cell_type": "code",
   "execution_count": 24,
   "id": "45b06ed5-b3a3-4be3-a825-178b69b3a36d",
   "metadata": {},
   "outputs": [
    {
     "name": "stdout",
     "output_type": "stream",
     "text": [
      "Epoch 1/10\n",
      "----------\n"
     ]
    },
    {
     "name": "stderr",
     "output_type": "stream",
     "text": [
      "100%|███████████████████████████████████████████████████████████████████████████████████████████████████████████████████████████████████████████████████████████████████████████████████████████████████| 22233/22233 [19:58<00:00, 18.56it/s]\n"
     ]
    },
    {
     "name": "stdout",
     "output_type": "stream",
     "text": [
      "Train loss 0.3076726891633572 accuracy 0.8646775805433699\n"
     ]
    },
    {
     "name": "stderr",
     "output_type": "stream",
     "text": [
      "100%|█████████████████████████████████████████████████████████████████████████████████████████████████████████████████████████████████████████████████████████████████████████████████████████████████████| 2780/2780 [00:53<00:00, 51.89it/s]\n"
     ]
    },
    {
     "name": "stdout",
     "output_type": "stream",
     "text": [
      "Val   loss 0.2897692160908696 accuracy 0.8766459389864052\n",
      "\n",
      "Epoch 2/10\n",
      "----------\n"
     ]
    },
    {
     "name": "stderr",
     "output_type": "stream",
     "text": [
      "100%|███████████████████████████████████████████████████████████████████████████████████████████████████████████████████████████████████████████████████████████████████████████████████████████████████| 22233/22233 [19:58<00:00, 18.55it/s]\n"
     ]
    },
    {
     "name": "stdout",
     "output_type": "stream",
     "text": [
      "Train loss 0.24625749269954705 accuracy 0.8969947248502703\n"
     ]
    },
    {
     "name": "stderr",
     "output_type": "stream",
     "text": [
      "100%|█████████████████████████████████████████████████████████████████████████████████████████████████████████████████████████████████████████████████████████████████████████████████████████████████████| 2780/2780 [00:53<00:00, 51.75it/s]\n"
     ]
    },
    {
     "name": "stdout",
     "output_type": "stream",
     "text": [
      "Val   loss 0.303229197441674 accuracy 0.8781302358007893\n",
      "\n",
      "Epoch 3/10\n",
      "----------\n"
     ]
    },
    {
     "name": "stderr",
     "output_type": "stream",
     "text": [
      "100%|███████████████████████████████████████████████████████████████████████████████████████████████████████████████████████████████████████████████████████████████████████████████████████████████████| 22233/22233 [23:42<00:00, 15.63it/s]\n"
     ]
    },
    {
     "name": "stdout",
     "output_type": "stream",
     "text": [
      "Train loss 0.1993863308654043 accuracy 0.921851039217147\n"
     ]
    },
    {
     "name": "stderr",
     "output_type": "stream",
     "text": [
      "100%|█████████████████████████████████████████████████████████████████████████████████████████████████████████████████████████████████████████████████████████████████████████████████████████████████████| 2780/2780 [01:13<00:00, 37.71it/s]\n"
     ]
    },
    {
     "name": "stdout",
     "output_type": "stream",
     "text": [
      "Val   loss 0.33893701810282556 accuracy 0.8770057685171649\n",
      "\n",
      "Epoch 4/10\n",
      "----------\n"
     ]
    },
    {
     "name": "stderr",
     "output_type": "stream",
     "text": [
      "100%|███████████████████████████████████████████████████████████████████████████████████████████████████████████████████████████████████████████████████████████████████████████████████████████████████| 22233/22233 [24:33<00:00, 15.09it/s]\n"
     ]
    },
    {
     "name": "stdout",
     "output_type": "stream",
     "text": [
      "Train loss 0.16402428949439268 accuracy 0.9396766317754329\n"
     ]
    },
    {
     "name": "stderr",
     "output_type": "stream",
     "text": [
      "100%|█████████████████████████████████████████████████████████████████████████████████████████████████████████████████████████████████████████████████████████████████████████████████████████████████████| 2780/2780 [01:13<00:00, 37.99it/s]\n"
     ]
    },
    {
     "name": "stdout",
     "output_type": "stream",
     "text": [
      "Val   loss 0.4000319993585723 accuracy 0.8750491954436586\n",
      "\n",
      "Epoch 5/10\n",
      "----------\n"
     ]
    },
    {
     "name": "stderr",
     "output_type": "stream",
     "text": [
      "100%|███████████████████████████████████████████████████████████████████████████████████████████████████████████████████████████████████████████████████████████████████████████████████████████████████| 22233/22233 [24:21<00:00, 15.22it/s]\n"
     ]
    },
    {
     "name": "stdout",
     "output_type": "stream",
     "text": [
      "Train loss 0.13888893767974078 accuracy 0.9519698530745\n"
     ]
    },
    {
     "name": "stderr",
     "output_type": "stream",
     "text": [
      "100%|█████████████████████████████████████████████████████████████████████████████████████████████████████████████████████████████████████████████████████████████████████████████████████████████████████| 2780/2780 [01:11<00:00, 38.96it/s]\n"
     ]
    },
    {
     "name": "stdout",
     "output_type": "stream",
     "text": [
      "Val   loss 0.4647355694776039 accuracy 0.8737448133946543\n",
      "\n",
      "Epoch 6/10\n",
      "----------\n"
     ]
    },
    {
     "name": "stderr",
     "output_type": "stream",
     "text": [
      "100%|███████████████████████████████████████████████████████████████████████████████████████████████████████████████████████████████████████████████████████████████████████████████████████████████████| 22233/22233 [23:53<00:00, 15.50it/s]\n"
     ]
    },
    {
     "name": "stdout",
     "output_type": "stream",
     "text": [
      "Train loss 0.11955821102196486 accuracy 0.9607055460054058\n"
     ]
    },
    {
     "name": "stderr",
     "output_type": "stream",
     "text": [
      "100%|█████████████████████████████████████████████████████████████████████████████████████████████████████████████████████████████████████████████████████████████████████████████████████████████████████| 2780/2780 [01:14<00:00, 37.45it/s]\n"
     ]
    },
    {
     "name": "stdout",
     "output_type": "stream",
     "text": [
      "Val   loss 0.5184423369554829 accuracy 0.87244043134565\n",
      "\n",
      "Epoch 7/10\n",
      "----------\n"
     ]
    },
    {
     "name": "stderr",
     "output_type": "stream",
     "text": [
      "100%|███████████████████████████████████████████████████████████████████████████████████████████████████████████████████████████████████████████████████████████████████████████████████████████████████| 22233/22233 [23:36<00:00, 15.69it/s]\n"
     ]
    },
    {
     "name": "stdout",
     "output_type": "stream",
     "text": [
      "Train loss 0.10296638793705164 accuracy 0.9676898836037439\n"
     ]
    },
    {
     "name": "stderr",
     "output_type": "stream",
     "text": [
      "100%|█████████████████████████████████████████████████████████████████████████████████████████████████████████████████████████████████████████████████████████████████████████████████████████████████████| 2780/2780 [01:13<00:00, 37.94it/s]\n"
     ]
    },
    {
     "name": "stdout",
     "output_type": "stream",
     "text": [
      "Val   loss 0.6129380537679405 accuracy 0.8722942505987787\n",
      "\n",
      "Epoch 8/10\n",
      "----------\n"
     ]
    },
    {
     "name": "stderr",
     "output_type": "stream",
     "text": [
      "100%|███████████████████████████████████████████████████████████████████████████████████████████████████████████████████████████████████████████████████████████████████████████████████████████████████| 22233/22233 [23:34<00:00, 15.72it/s]\n"
     ]
    },
    {
     "name": "stdout",
     "output_type": "stream",
     "text": [
      "Train loss 0.08911853912569737 accuracy 0.9733051842085658\n"
     ]
    },
    {
     "name": "stderr",
     "output_type": "stream",
     "text": [
      "100%|█████████████████████████████████████████████████████████████████████████████████████████████████████████████████████████████████████████████████████████████████████████████████████████████████████| 2780/2780 [01:11<00:00, 38.95it/s]\n"
     ]
    },
    {
     "name": "stdout",
     "output_type": "stream",
     "text": [
      "Val   loss 0.6342230332056362 accuracy 0.8728564842405909\n",
      "\n",
      "Epoch 9/10\n",
      "----------\n"
     ]
    },
    {
     "name": "stderr",
     "output_type": "stream",
     "text": [
      "100%|███████████████████████████████████████████████████████████████████████████████████████████████████████████████████████████████████████████████████████████████████████████████████████████████████| 22233/22233 [23:17<00:00, 15.90it/s]\n"
     ]
    },
    {
     "name": "stdout",
     "output_type": "stream",
     "text": [
      "Train loss 0.07728110762285943 accuracy 0.9773195267686088\n"
     ]
    },
    {
     "name": "stderr",
     "output_type": "stream",
     "text": [
      "100%|█████████████████████████████████████████████████████████████████████████████████████████████████████████████████████████████████████████████████████████████████████████████████████████████████████| 2780/2780 [01:09<00:00, 39.89it/s]\n"
     ]
    },
    {
     "name": "stdout",
     "output_type": "stream",
     "text": [
      "Val   loss 0.6784745272560541 accuracy 0.8734412072280756\n",
      "\n",
      "Epoch 10/10\n",
      "----------\n"
     ]
    },
    {
     "name": "stderr",
     "output_type": "stream",
     "text": [
      "100%|███████████████████████████████████████████████████████████████████████████████████████████████████████████████████████████████████████████████████████████████████████████████████████████████████| 22233/22233 [23:09<00:00, 16.00it/s]\n"
     ]
    },
    {
     "name": "stdout",
     "output_type": "stream",
     "text": [
      "Train loss 0.06925157138865524 accuracy 0.9799423430210739\n"
     ]
    },
    {
     "name": "stderr",
     "output_type": "stream",
     "text": [
      "100%|█████████████████████████████████████████████████████████████████████████████████████████████████████████████████████████████████████████████████████████████████████████████████████████████████████| 2780/2780 [01:09<00:00, 40.08it/s]"
     ]
    },
    {
     "name": "stdout",
     "output_type": "stream",
     "text": [
      "Val   loss 0.7059240318417068 accuracy 0.8747568339499162\n",
      "\n",
      "CPU times: total: 3h 53min 37s\n",
      "Wall time: 4h 1min 31s\n"
     ]
    },
    {
     "name": "stderr",
     "output_type": "stream",
     "text": [
      "\n"
     ]
    }
   ],
   "source": [
    "%%time\n",
    "from collections import defaultdict\n",
    "import torch\n",
    "\n",
    "history = defaultdict(list)\n",
    "best_accuracy = 0\n",
    "\n",
    "for epoch in range(EPOCHS):\n",
    "    \n",
    "    # Show details \n",
    "    print(f\"Epoch {epoch + 1}/{EPOCHS}\")\n",
    "    print(\"-\" * 10)\n",
    "    \n",
    "    train_acc, train_loss = train_epoch(\n",
    "        model,\n",
    "        train_data_loader,\n",
    "        loss_fn,\n",
    "        optimizer,\n",
    "        device,\n",
    "        scheduler,\n",
    "        len(df_train)\n",
    "    )\n",
    "    \n",
    "    print(f\"Train loss {train_loss} accuracy {train_acc}\")\n",
    "    \n",
    "    # Get model performance (accuracy and loss)\n",
    "    val_acc, val_loss = eval_model(\n",
    "        model,\n",
    "        val_data_loader,\n",
    "        loss_fn,\n",
    "        device,\n",
    "        len(df_val)\n",
    "    )\n",
    "    \n",
    "    print(f\"Val   loss {val_loss} accuracy {val_acc}\")\n",
    "    print()\n",
    "    \n",
    "    history['train_acc'].append(train_acc)\n",
    "    history['train_loss'].append(train_loss)\n",
    "    history['val_acc'].append(val_acc)\n",
    "    history['val_loss'].append(val_loss)\n",
    "    \n",
    "    # If we beat prev performance\n",
    "    if val_acc > best_accuracy:\n",
    "        torch.save(model.state_dict(), 'best_model_state.bin')\n",
    "        best_accuracy = val_acc"
   ]
  },
  {
   "cell_type": "code",
   "execution_count": 5,
   "id": "d3f28bf4-bddf-4afc-8212-59ec7ba1add5",
   "metadata": {},
   "outputs": [
    {
     "data": {
      "text/plain": [
       "<All keys matched successfully>"
      ]
     },
     "execution_count": 5,
     "metadata": {},
     "output_type": "execute_result"
    }
   ],
   "source": [
    "import torch\n",
    "model.load_state_dict(torch.load(\"./best_model_state.bin\", map_location=device))\n"
   ]
  },
  {
   "cell_type": "code",
   "execution_count": 33,
   "id": "00a489db-3fd3-4713-a53f-7588a575b34b",
   "metadata": {},
   "outputs": [
    {
     "name": "stderr",
     "output_type": "stream",
     "text": [
      "100%|████████████████████████████████| 2780/2780 [00:53<00:00, 52.05it/s]\n"
     ]
    },
    {
     "data": {
      "text/plain": [
       "0.8793572617280618"
      ]
     },
     "execution_count": 33,
     "metadata": {},
     "output_type": "execute_result"
    }
   ],
   "source": [
    "test_acc, _ = eval_model(\n",
    "  model,\n",
    "  test_data_loader,\n",
    "  loss_fn,\n",
    "  device,\n",
    "  len(df_test)\n",
    ")\n",
    "\n",
    "test_acc.item()"
   ]
  },
  {
   "cell_type": "code",
   "execution_count": 46,
   "id": "0f976d0b-ce06-4520-8d29-752e6eb06244",
   "metadata": {},
   "outputs": [],
   "source": [
    "def get_predictions(model, data_loader):\n",
    "    model = model.eval()\n",
    "\n",
    "    texts = []\n",
    "    predictions = []\n",
    "    prediction_probs = []\n",
    "    real_values = []\n",
    "\n",
    "    with torch.no_grad():\n",
    "        for d in tqdm(data_loader):\n",
    "            texts = d[\"text_text\"]\n",
    "            input_ids = d[\"input_ids\"].to(device)\n",
    "            attention_mask = d[\"attention_mask\"].to(device)\n",
    "            targets = d[\"targets\"].to(device)\n",
    "\n",
    "            # Get outouts\n",
    "            outputs = model(\n",
    "                input_ids=input_ids,\n",
    "                attention_mask=attention_mask\n",
    "            )\n",
    "            _, preds = torch.max(outputs, dim=1)\n",
    "\n",
    "            texts.extend(texts)\n",
    "            predictions.extend(preds)\n",
    "            prediction_probs.extend(outputs)\n",
    "            real_values.extend(targets)\n",
    "\n",
    "    predictions = torch.stack(predictions).cpu()\n",
    "    prediction_probs = torch.stack(prediction_probs).cpu()\n",
    "    real_values = torch.stack(real_values).cpu()\n",
    "\n",
    "    return texts, predictions, prediction_probs, real_values\n",
    "\n",
    "\n"
   ]
  },
  {
   "cell_type": "code",
   "execution_count": 47,
   "id": "31b7de0c-2068-49d0-aadb-87ca5aaf6e9b",
   "metadata": {},
   "outputs": [
    {
     "name": "stderr",
     "output_type": "stream",
     "text": [
      "100%|████████████████████████████████| 2780/2780 [00:39<00:00, 69.55it/s]\n"
     ]
    }
   ],
   "source": [
    "y_review_texts, y_pred, y_pred_probs, y_test = get_predictions(\n",
    "    model,\n",
    "    test_data_loader\n",
    ")"
   ]
  },
  {
   "cell_type": "code",
   "execution_count": 49,
   "id": "960f6c68-1507-4e9b-811f-5d5cf516efca",
   "metadata": {},
   "outputs": [
    {
     "name": "stdout",
     "output_type": "stream",
     "text": [
      "              precision    recall  f1-score   support\n",
      "\n",
      "    Negativo       0.88      0.93      0.91     54759\n",
      "      Neutro       0.98      0.99      0.99      5311\n",
      "    Positivo       0.86      0.76      0.80     28862\n",
      "\n",
      "    accuracy                           0.88     88932\n",
      "   macro avg       0.91      0.89      0.90     88932\n",
      "weighted avg       0.88      0.88      0.88     88932\n",
      "\n"
     ]
    }
   ],
   "source": [
    "from sklearn.metrics import confusion_matrix, classification_report\n",
    "\n",
    "class_names = [\"Negativo\", \"Neutro\", \"Positivo\"]\n",
    "print(classification_report(y_test, y_pred, target_names=class_names))\n"
   ]
  },
  {
   "cell_type": "code",
   "execution_count": 51,
   "id": "25fa38b1-7633-447e-bf58-762ec534ee4d",
   "metadata": {},
   "outputs": [
    {
     "data": {
      "image/png": "[encoded data removed]",
      "text/plain": [
       "<Figure size 640x480 with 2 Axes>"
      ]
     },
     "metadata": {},
     "output_type": "display_data"
    }
   ],
   "source": [
    "import matplotlib.pyplot as plt\n",
    "\n",
    "def show_confusion_matrix(confusion_matrix):\n",
    "    hmap = sns.heatmap(confusion_matrix, annot=True, fmt=\"d\", cmap=\"Blues\")\n",
    "    hmap.yaxis.set_ticklabels(hmap.yaxis.get_ticklabels(), rotation=0, ha='right')\n",
    "    hmap.xaxis.set_ticklabels(hmap.xaxis.get_ticklabels(), rotation=30, ha='right')\n",
    "    plt.ylabel('True sentiment')\n",
    "    plt.xlabel('Predicted sentiment');\n",
    "\n",
    "cm = confusion_matrix(y_test, y_pred)\n",
    "df_cm = pd.DataFrame(cm, index=class_names, columns=class_names)\n",
    "show_confusion_matrix(df_cm)"
   ]
  },
  {
   "cell_type": "code",
   "execution_count": 23,
   "id": "1cc81c13-17e8-4b48-a8a1-09d45612b6d5",
   "metadata": {},
   "outputs": [
    {
     "name": "stdout",
     "output_type": "stream",
     "text": [
      "Review text: isso e bom\n",
      "Sentiment  : Positivo\n"
     ]
    }
   ],
   "source": [
    "import preprocess\n",
    "def preprocess_bert(text):\n",
    "    text = text.lower()\n",
    "    text = preprocess.remove_usernames(text)\n",
    "    text = preprocess.remove_hashtags(text)\n",
    "    text = preprocess.remove_emoticons(text)\n",
    "    text = preprocess.remove_urls(text)\n",
    "    text = preprocess.remove_accents(text)\n",
    "    text = preprocess.remove_numbers(text)\n",
    "    text = preprocess.remove_extra_whitespace(text)\n",
    "    return text\n",
    "\n",
    "text = \"isso é bom\"\n",
    "text = preprocess_bert(text)\n",
    "text_tokenized = tokenizer.encode_plus(\n",
    "            text,\n",
    "            add_special_tokens=True,\n",
    "            padding='max_length',\n",
    "            truncation=True, \n",
    "            max_length=75,\n",
    "            return_token_type_ids=False,\n",
    "            return_attention_mask=True,\n",
    "            return_tensors='pt',\n",
    " )\n",
    "\n",
    "class_names = [\"Negativo\", \"Neutro\", \"Positivo\"]\n",
    "input_ids = text_tokenized['input_ids'].to(device)\n",
    "attention_mask = text_tokenized['attention_mask'].to(device)\n",
    "\n",
    "output = model(input_ids, attention_mask)\n",
    "_, prediction = torch.max(output, dim=1)\n",
    "\n",
    "print(f'Review text: {text}')\n",
    "print(f'Sentiment  : {class_names[prediction]}')\n",
    "\n",
    "\n",
    "\n"
   ]
  }
 ],
 "metadata": {
  "kernelspec": {
   "display_name": "base",
   "language": "python",
   "name": "python3"
  },
  "language_info": {
   "codemirror_mode": {
    "name": "ipython",
    "version": 3
   },
   "file_extension": ".py",
   "mimetype": "text/x-python",
   "name": "python",
   "nbconvert_exporter": "python",
   "pygments_lexer": "ipython3",
   "version": "3.12.3"
  }
 },
 "nbformat": 4,
 "nbformat_minor": 5
}
